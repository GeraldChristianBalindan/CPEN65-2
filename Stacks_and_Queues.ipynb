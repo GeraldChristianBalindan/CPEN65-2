{
  "nbformat": 4,
  "nbformat_minor": 0,
  "metadata": {
    "colab": {
      "provenance": [],
      "authorship_tag": "ABX9TyPN+YMGW0d5kg22tGuvGl40",
      "include_colab_link": true
    },
    "kernelspec": {
      "name": "python3",
      "display_name": "Python 3"
    },
    "language_info": {
      "name": "python"
    }
  },
  "cells": [
    {
      "cell_type": "markdown",
      "metadata": {
        "id": "view-in-github",
        "colab_type": "text"
      },
      "source": [
        "<a href=\"https://colab.research.google.com/github/GeraldChristianBalindan/CPEN65-2/blob/main/Stacks_and_Queues.ipynb\" target=\"_parent\"><img src=\"https://colab.research.google.com/assets/colab-badge.svg\" alt=\"Open In Colab\"/></a>"
      ]
    },
    {
      "cell_type": "code",
      "execution_count": null,
      "metadata": {
        "colab": {
          "base_uri": "https://localhost:8080/"
        },
        "id": "Ln8fz1PbAGN2",
        "outputId": "e70d5ec2-924f-4844-a067-dee3b7e5d9b5"
      },
      "outputs": [
        {
          "output_type": "stream",
          "name": "stdout",
          "text": [
            "[1, 2, 3]\n",
            "[1, 2]\n",
            "[1]\n",
            "[]\n"
          ]
        }
      ],
      "source": [
        "class Stack:\n",
        "  def __init__(self):\n",
        "    self.stack = []\n",
        "  \n",
        "  def push(self,dataval):\n",
        "    if dataval not in self.stack:\n",
        "      return self.stack.append(dataval)\n",
        "\n",
        "    else:\n",
        "      return False\n",
        "\n",
        "  def pop(self):\n",
        "    if len(self.stack)<=0:\n",
        "      return \"stack is empty\"\n",
        "\n",
        "    else:\n",
        "      return self.stack.pop()\n",
        "\n",
        "AStack = Stack()\n",
        "AStack.push(1)\n",
        "AStack.push(2)\n",
        "AStack.push(3)\n",
        "print(AStack.stack) \n",
        "\n",
        "AStack.pop()\n",
        "print(AStack.stack)\n",
        "AStack.pop()\n",
        "print(AStack.stack)\n",
        "AStack.pop()\n",
        "print(AStack.stack)\n"
      ]
    },
    {
      "cell_type": "code",
      "source": [
        "#Application 1\n",
        "\n",
        "class Queues:\n",
        "  def __init__(self):\n",
        "    self.queue = []\n",
        "\n",
        "  def enqueue(self,dataval):\n",
        "    if dataval not in self.queue:\n",
        "      return self.queue.append(dataval)\n",
        "\n",
        "    else:\n",
        "      return False\n",
        "\n",
        "  def dequeue(self):\n",
        "    if len(self.queue)<=0:\n",
        "      return \"queue is empty\"\n",
        "\n",
        "    else:\n",
        "      return self.queue.pop(0)\n",
        "\n",
        "AQueue = Queues()\n",
        "AQueue.enqueue(1)\n",
        "AQueue.enqueue(2)\n",
        "AQueue.enqueue(3)\n",
        "\n",
        "print(AQueue.queue)\n",
        "\n",
        "AQueue.dequeue()\n",
        "print(AQueue.queue)\n",
        "AQueue.dequeue()\n",
        "print(AQueue.queue)\n",
        "AQueue.dequeue()\n",
        "print(AQueue.queue)"
      ],
      "metadata": {
        "colab": {
          "base_uri": "https://localhost:8080/"
        },
        "id": "cBrDnA7pEg00",
        "outputId": "d9d801bb-5978-4c4c-be99-c4b92e2f232c"
      },
      "execution_count": 1,
      "outputs": [
        {
          "output_type": "stream",
          "name": "stdout",
          "text": [
            "[1, 2, 3]\n",
            "[2, 3]\n",
            "[3]\n",
            "[]\n"
          ]
        }
      ]
    }
  ]
}