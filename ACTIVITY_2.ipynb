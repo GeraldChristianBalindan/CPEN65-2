{
  "nbformat": 4,
  "nbformat_minor": 0,
  "metadata": {
    "colab": {
      "provenance": [],
      "authorship_tag": "ABX9TyM8eScijMyTO8lJsAjDdbSy",
      "include_colab_link": true
    },
    "kernelspec": {
      "name": "python3",
      "display_name": "Python 3"
    },
    "language_info": {
      "name": "python"
    }
  },
  "cells": [
    {
      "cell_type": "markdown",
      "metadata": {
        "id": "view-in-github",
        "colab_type": "text"
      },
      "source": [
        "<a href=\"https://colab.research.google.com/github/GeraldChristianBalindan/CPEN65-2/blob/main/ACTIVITY_2.ipynb\" target=\"_parent\"><img src=\"https://colab.research.google.com/assets/colab-badge.svg\" alt=\"Open In Colab\"/></a>"
      ]
    },
    {
      "cell_type": "code",
      "source": [
        "Characters = []\n",
        "Given_Name = input(\"Enter your name: \")\n",
        "\n",
        "for name in Given_Name:\n",
        "  Characters.append(name)\n",
        "\n",
        "print(\"Name Characters: \", Characters)\n",
        "print('\\n')\n",
        "\n",
        "Characters.reverse()\n",
        "\n",
        "print(\"Reversed Name: \", Characters)"
      ],
      "metadata": {
        "colab": {
          "base_uri": "https://localhost:8080/"
        },
        "id": "vWTEElANWHS6",
        "outputId": "6191f57e-eda5-488b-cf13-0bf6fd5c25e6"
      },
      "execution_count": 1,
      "outputs": [
        {
          "output_type": "stream",
          "name": "stdout",
          "text": [
            "Enter your name: GERALD CHRISTIAN REY R. BALINDAN\n",
            "Name Characters:  ['G', 'E', 'R', 'A', 'L', 'D', ' ', 'C', 'H', 'R', 'I', 'S', 'T', 'I', 'A', 'N', ' ', 'R', 'E', 'Y', ' ', 'R', '.', ' ', 'B', 'A', 'L', 'I', 'N', 'D', 'A', 'N']\n",
            "\n",
            "\n",
            "Reversed Name:  ['N', 'A', 'D', 'N', 'I', 'L', 'A', 'B', ' ', '.', 'R', ' ', 'Y', 'E', 'R', ' ', 'N', 'A', 'I', 'T', 'S', 'I', 'R', 'H', 'C', ' ', 'D', 'L', 'A', 'R', 'E', 'G']\n"
          ]
        }
      ]
    }
  ]
}