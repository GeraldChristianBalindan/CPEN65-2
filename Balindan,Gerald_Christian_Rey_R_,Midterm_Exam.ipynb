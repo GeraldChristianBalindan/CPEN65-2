{
  "nbformat": 4,
  "nbformat_minor": 0,
  "metadata": {
    "colab": {
      "provenance": [],
      "authorship_tag": "ABX9TyPFChLpwBdP/sYD0MyCGK0x",
      "include_colab_link": true
    },
    "kernelspec": {
      "name": "python3",
      "display_name": "Python 3"
    },
    "language_info": {
      "name": "python"
    }
  },
  "cells": [
    {
      "cell_type": "markdown",
      "metadata": {
        "id": "view-in-github",
        "colab_type": "text"
      },
      "source": [
        "<a href=\"https://colab.research.google.com/github/GeraldChristianBalindan/CPEN65-2/blob/main/Balindan%2CGerald_Christian_Rey_R_%2CMidterm_Exam.ipynb\" target=\"_parent\"><img src=\"https://colab.research.google.com/assets/colab-badge.svg\" alt=\"Open In Colab\"/></a>"
      ]
    },
    {
      "cell_type": "code",
      "source": [
        "import array as arr\n",
        "numbers = arr.array('i',[1,2,3,4,5,6,7,8,9,10])\n",
        "\n",
        "sum = 0\n",
        "for x in range(11):\n",
        "    sum += x\n",
        "\n",
        "print(numbers)\n",
        "print(f\"The sum of the whole array is: {sum}\")\n"
      ],
      "metadata": {
        "colab": {
          "base_uri": "https://localhost:8080/"
        },
        "id": "ikkOT1RcCQ9V",
        "outputId": "07b83300-bc8c-435a-b1a1-40449bc19042"
      },
      "execution_count": 9,
      "outputs": [
        {
          "output_type": "stream",
          "name": "stdout",
          "text": [
            "array('i', [1, 2, 3, 4, 5, 6, 7, 8, 9, 10])\n",
            "The sum of the whole array is: 55\n"
          ]
        }
      ]
    },
    {
      "cell_type": "code",
      "source": [
        "import array as arr\n",
        "numbers = arr.array('i',[1,2,3,4,5,6,7,8,9,10])\n",
        "input = int(input(\"Insert in the last part of array:\"))\n",
        "numbers.append(input)\n",
        "print(numbers)"
      ],
      "metadata": {
        "colab": {
          "base_uri": "https://localhost:8080/"
        },
        "id": "rR31wjnwIGHz",
        "outputId": "44981d4a-fb3c-4d82-cc70-a2cda40f2426"
      },
      "execution_count": 1,
      "outputs": [
        {
          "output_type": "stream",
          "name": "stdout",
          "text": [
            "Insert in the last part of array:15\n",
            "array('i', [1, 2, 3, 4, 5, 6, 7, 8, 9, 10, 15])\n"
          ]
        }
      ]
    },
    {
      "cell_type": "code",
      "source": [
        "import array as arr\n",
        "numbers = arr.array('i',[1,2,3,4,5,6,7,8,9,10])\n",
        "input = 40\n",
        "numbers.insert(1,input)\n",
        "insert = numbers\n",
        "print(f'The final array with inserted element is {insert}')"
      ],
      "metadata": {
        "colab": {
          "base_uri": "https://localhost:8080/"
        },
        "id": "Ut54It_qSRBp",
        "outputId": "1d2b1876-6304-4d0f-d91e-aef5114ea312"
      },
      "execution_count": 7,
      "outputs": [
        {
          "output_type": "stream",
          "name": "stdout",
          "text": [
            "The final array with inserted element is array('i', [1, 40, 2, 3, 4, 5, 6, 7, 8, 9, 10])\n"
          ]
        }
      ]
    },
    {
      "cell_type": "code",
      "source": [
        "import array as arr\n",
        "numbers = arr.array('i',[5,4,3,2,1])\n",
        "numbers.reverse()\n",
        "\n",
        "reverse = numbers\n",
        "print(f'The reversed items are {reverse}')"
      ],
      "metadata": {
        "colab": {
          "base_uri": "https://localhost:8080/"
        },
        "id": "FgjvhgZkMegi",
        "outputId": "2ad4af9b-61ac-4a6a-dc86-8318de1ecd07"
      },
      "execution_count": 6,
      "outputs": [
        {
          "output_type": "stream",
          "name": "stdout",
          "text": [
            "The reversed items are array('i', [1, 2, 3, 4, 5])\n"
          ]
        }
      ]
    },
    {
      "cell_type": "code",
      "source": [
        "import array as arr\n",
        "numbers = arr.array('i',[5,4,3,2,1])\n",
        "\n",
        "itemsize = len(numbers)\n",
        "print(f'the itemsize is {itemsize}')"
      ],
      "metadata": {
        "colab": {
          "base_uri": "https://localhost:8080/"
        },
        "id": "TC1MWn7-MxzZ",
        "outputId": "89f3b257-c1f4-4492-f538-2cf1a73da133"
      },
      "execution_count": 5,
      "outputs": [
        {
          "output_type": "stream",
          "name": "stdout",
          "text": [
            "the itemsize is 5\n"
          ]
        }
      ]
    }
  ]
}